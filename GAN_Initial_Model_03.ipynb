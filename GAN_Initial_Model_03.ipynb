{
  "nbformat": 4,
  "nbformat_minor": 0,
  "metadata": {
    "colab": {
      "provenance": [],
      "authorship_tag": "ABX9TyNpn2eQBxvbtBeGxIuV8oST",
      "include_colab_link": true
    },
    "kernelspec": {
      "name": "python3",
      "display_name": "Python 3"
    },
    "language_info": {
      "name": "python"
    }
  },
  "cells": [
    {
      "cell_type": "markdown",
      "metadata": {
        "id": "view-in-github",
        "colab_type": "text"
      },
      "source": [
        "<a href=\"https://colab.research.google.com/github/barikbin/Generative-Adversarial-NN/blob/main/GAN_Initial_Model_03.ipynb\" target=\"_parent\"><img src=\"https://colab.research.google.com/assets/colab-badge.svg\" alt=\"Open In Colab\"/></a>"
      ]
    },
    {
      "cell_type": "code",
      "execution_count": 16,
      "metadata": {
        "id": "QtVegS2bOYsR"
      },
      "outputs": [],
      "source": [
        "\n",
        "import os \n",
        "os.environ['TF_CPP_MIN_LOG_LEVEL']='2'\n",
        "import numpy as np\n",
        "import tensorflow as tf\n",
        "import tensorflow.compat.v1 as tf\n",
        "tf.disable_v2_behavior()\n",
        "\n",
        "\n",
        "# Creating variables\n",
        "s = tf.Variable(2, name='scalar')\n",
        "m = tf.Variable([[0,1], [2,3]], name='matrix')\n",
        "W = tf.Variable(tf.zeros([784, 10]), name='big_matix')\n",
        "\n",
        "# This is an update for the tensorflow version 2\n",
        "V = tf.Variable(tf.random.truncated_normal([784, 10]), name='normal_matrix')\n",
        "\n",
        "# We basically assign different types of data here, but newer version of tensoflow has a tottaly diffrenet \n",
        "# Syntax structure! \n",
        "\n",
        "# s = tf.compat.v1.get_variable('scalar', initializer = tf.constant(2))\n",
        "# m = tf.Variable('matrix', initializer = tf.constant([[0,1],[2,3]]))\n",
        "# W = tf.Variable('big_matrix', shape=(784, 10), initializer = tf.zeros_initializer())\n",
        "# V = tf.Variable('normal_matrix', shape(784, 10), initializer = tf.truncated_normal_initializer())\n"
      ]
    },
    {
      "cell_type": "code",
      "source": [
        "# So we area certain that global value initializer works!\n",
        "\n",
        "with tf.Session() as sess:\n",
        "  sess.run(tf.global_variables_initializer())\n",
        "  print(V.eval())\n"
      ],
      "metadata": {
        "colab": {
          "base_uri": "https://localhost:8080/"
        },
        "id": "Bw2NSTK6woHe",
        "outputId": "1f7fb9bb-207b-4c67-fa90-40a0a3f57f74"
      },
      "execution_count": 17,
      "outputs": [
        {
          "output_type": "stream",
          "name": "stdout",
          "text": [
            "[[ 0.35104892  0.81174916 -0.17623709 ...  0.42579114 -0.29526326\n",
            "  -0.38179237]\n",
            " [ 1.1842904   1.3275487   0.04810633 ...  0.3891088   0.53070134\n",
            "   0.6285195 ]\n",
            " [-1.4645586  -0.43222392 -0.04348407 ...  0.02052263 -0.01252622\n",
            "   0.11552641]\n",
            " ...\n",
            " [ 0.17021734  0.35921112 -1.0290936  ...  0.6966726  -0.02934859\n",
            "  -0.47670984]\n",
            " [ 0.7784154   1.6043116   0.24209075 ...  0.13717514  1.0496029\n",
            "  -1.690364  ]\n",
            " [-0.39894167  1.0952942  -0.34575468 ...  0.38497066  0.0392189\n",
            "  -0.32174274]]\n"
          ]
        }
      ]
    },
    {
      "cell_type": "code",
      "source": [
        "\n",
        "# assigning values to the variables \n",
        "\n",
        "W = tf.Variable(10)\n",
        "W.assign(100)\n",
        "with tf.Session() as sess:\n",
        "  sess.run(W.initializer)\n",
        "  print(sess.run(W))\n",
        "\n",
        "# We are sure that initializer works in this version of tensorflow!\n"
      ],
      "metadata": {
        "colab": {
          "base_uri": "https://localhost:8080/"
        },
        "id": "dV8K8ljUzXVd",
        "outputId": "87384999-2d6d-4dd6-eca0-18081882cc7e"
      },
      "execution_count": 19,
      "outputs": [
        {
          "output_type": "stream",
          "name": "stdout",
          "text": [
            "10\n"
          ]
        }
      ]
    },
    {
      "cell_type": "code",
      "source": [
        " # Pay close attenstion to the syntax\n",
        "\n",
        " W = tf.Variable(10)\n",
        " assign_op = W.assign(100)\n",
        " with tf.Session() as sess:\n",
        "    sess.run(assign_op)\n",
        "    print(W.eval())\n",
        "\n",
        "# We revoke the value assigned! not the initialized value!    "
      ],
      "metadata": {
        "colab": {
          "base_uri": "https://localhost:8080/"
        },
        "id": "AMZynzKk0FIt",
        "outputId": "ea82fd4b-aef2-4371-bbe2-df841a13bc75"
      },
      "execution_count": 20,
      "outputs": [
        {
          "output_type": "stream",
          "name": "stdout",
          "text": [
            "100\n"
          ]
        }
      ]
    },
    {
      "cell_type": "code",
      "source": [
        "\n",
        "# Create a varibale whose original value is 2\n",
        "# Well basically we do not have intilizaer in the newer version of tensorflow!\n",
        "# a = tf.get_variable('scalar', initializer = tf.constant(2))\n",
        "\n",
        "'''\n",
        "a_times_two = a.assign( a * 2)\n",
        "with tf.Session() as sess:\n",
        "  sess.run(tf.global_variables_initializer())\n",
        "  sess.run(a_times_two)\n",
        "  sess.run(a_times_two)\n",
        "  sess.run(a_times_two)\n",
        "\n",
        "'''  "
      ],
      "metadata": {
        "colab": {
          "base_uri": "https://localhost:8080/",
          "height": 54
        },
        "id": "PNoXA9dO1ILJ",
        "outputId": "2bf0c2a8-242c-4c6b-a320-dd8a7d52852e"
      },
      "execution_count": 23,
      "outputs": [
        {
          "output_type": "execute_result",
          "data": {
            "text/plain": [
              "'\\na_times_two = a.assign( a * 2)\\nwith tf.Session() as sess:\\n  sess.run(tf.global_variables_initializer())\\n  sess.run(a_times_two)\\n  sess.run(a_times_two)\\n  sess.run(a_times_two)\\n\\n'"
            ],
            "application/vnd.google.colaboratory.intrinsic+json": {
              "type": "string"
            }
          },
          "metadata": {},
          "execution_count": 23
        }
      ]
    },
    {
      "cell_type": "code",
      "source": [
        "\n",
        "W = tf.Variable(10)\n",
        "sess1 = tf.Session()\n",
        "sess2 = tf.Session()\n",
        "\n",
        "sess1.run(W.initializer)\n",
        "sess2.run(W.initializer)\n",
        "\n",
        "print(sess1.run(W.assign_add(10)))\n",
        "print(sess2.run(W.assign_sub(2)))\n",
        "print(sess1.run(W.assign_add(100)))\n",
        "print(sess2.run(W.assign_sub(50)))\n",
        "sess1.close()\n",
        "sess2.close()\n",
        "\n",
        "# Pay attention to the order of calculations! it is not linear!\n",
        "W = tf.Variable(tf.truncated_normal([700, 10]))\n",
        "\n",
        "# Need to know what truncated normal is!?\n",
        "# This is a neural network structure \n",
        "U = tf.Variable( W * 2)\n",
        "print(U)\n",
        "\n",
        "W = tf.Variable(tf.truncated_normal([700,10]))\n",
        "U = tf.Variable( W * 2)\n"
      ],
      "metadata": {
        "colab": {
          "base_uri": "https://localhost:8080/"
        },
        "id": "p5wFxi_X2IVh",
        "outputId": "b16e44f7-dec3-4008-ea6a-9da7bb27750a"
      },
      "execution_count": 28,
      "outputs": [
        {
          "output_type": "stream",
          "name": "stdout",
          "text": [
            "20\n",
            "8\n",
            "120\n",
            "-42\n",
            "<tf.Variable 'Variable_12:0' shape=(700, 10) dtype=float32_ref>\n"
          ]
        }
      ]
    },
    {
      "cell_type": "markdown",
      "source": [
        "## Application on the Dataset, linear regression example using tf.data"
      ],
      "metadata": {
        "id": "4WVIUOjG6Bms"
      }
    },
    {
      "cell_type": "code",
      "source": [
        "!pip install utils"
      ],
      "metadata": {
        "colab": {
          "base_uri": "https://localhost:8080/"
        },
        "id": "CI-e3XgCLF9h",
        "outputId": "0cef1f08-0454-46be-b939-6f88ca419784"
      },
      "execution_count": 31,
      "outputs": [
        {
          "output_type": "stream",
          "name": "stdout",
          "text": [
            "Looking in indexes: https://pypi.org/simple, https://us-python.pkg.dev/colab-wheels/public/simple/\n",
            "Collecting utils\n",
            "  Downloading utils-1.0.1-py2.py3-none-any.whl (21 kB)\n",
            "Installing collected packages: utils\n",
            "Successfully installed utils-1.0.1\n"
          ]
        }
      ]
    },
    {
      "cell_type": "code",
      "source": [
        "\n",
        "import os\n",
        "os.environ['TF_CPP_MIN_LOG_LEVEL'] = '2'\n",
        "import time\n",
        "import matplotlib.pyplot as plt\n",
        "import tensorflow as tf\n",
        "import utils\n",
        "\n",
        "DATA_FILE = './Prediction Dataset USA.txt'\n",
        "\n",
        "# Here we read the data\n",
        "# data, n_samples = utils.read_birth_life_data(DATA_FILER)\n",
        "\n",
        "# Here we create Dataset and iterator\n",
        "# The methods all come from the util file! that's another file\n",
        "\n",
        "dataset = tf.data.Dataset.from_tensor_slices((data[:,0], data[:,1]))\n",
        "\n",
        "iterator = dataset.make_initializable_iterator()\n",
        "X, Y = iterator.get_next()\n",
        "\n",
        "# Here we create weight and bias, they are initialized to 0\n",
        "w = tf.get_variable('weights', initializer = tf.constant(0.0))\n",
        "\n",
        "b = tf.get_variable('bias', initializer=tf.constant(0.0))\n",
        "\n",
        "# This is a simple regression and we build the model here!\n",
        "Y_predicted = X * w + b\n",
        "\n",
        "# Step 5: use the aquare as the loss function\n",
        "loss = tf.square(Y - Y_predicted, name='loss')\n",
        "\n",
        "# Step 6: this is the gradient descent with learning rate of 0.001 to minimize loss\n",
        "# Pay attenstion to the syntax\n",
        "\n",
        "optimizer = tf.train.GradientDescentOptimizer(learning_rate=0.001).minimize(loss)\n",
        "\n",
        "# Here we initialize the necessary variables, in this case w and b\n",
        "# Pay attenstion to the time and write syntax\n",
        "\n",
        "start = time.time()\n",
        "with tf.Session() as sess:\n",
        "    sess.run(tf.global_variables_initializer())\n",
        "    writer = tf.summary.FileWriter('./graphs/linear_reg, sess.graph')\n",
        "\n",
        "# Here we train the model for 100 epochs\n",
        "for i in range(100):\n",
        "    sess.run(iterator.initializer) \n",
        "    total_loss = 0\n",
        "    try:\n",
        "        while True:  \n",
        "          # The underscore here is not clear\n",
        "          _, l = sess.run([optimizer, loss])\n",
        "          total_loss += l\n",
        "    except tf.errors.OutOfRangeError:\n",
        "        pass  \n",
        "\n",
        "    print('Epoch {0}:{1}' . format(i, total_loss/n_samples)) \n",
        "\n",
        "    # We should always close the writer when you are done using it! so\n",
        "    writer.close()  \n",
        "\n",
        "# Here we print out the values of w and b\n",
        "    w_out, b_out = sess.run([w,b])\n",
        "    print('w:%f, b:%f' %(w_out, b_out))\n",
        "\n",
        "# we should print the time It took to converge       \n",
        "print('Took: %f seconds' %(time.time() - start))  \n",
        "\n",
        "# The results plots\n",
        "# Pay attention to the syntax of the plot \n",
        "\n",
        "plt.plot(data[:,0], data[:,1], 'bo', label='Real data')\n",
        "plt.plot(data[:,0], data[:,0] * w_out + b_out, 'r', label='Predicted data with squared error')\n"
      ],
      "metadata": {
        "id": "iyjfpQbT6Lga"
      },
      "execution_count": 33,
      "outputs": []
    }
  ]
}